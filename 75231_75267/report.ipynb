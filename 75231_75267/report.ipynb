{
 "cells": [
  {
   "cell_type": "markdown",
   "id": "0ee45a07",
   "metadata": {},
   "source": [
    "# Computer Vision 2025-2026 - NOVA FCT\n",
    "\n",
    "### Assignment 1\n",
    "\n",
    "**Authors**:\n",
    "   - Student number email\n",
    "   - Student number email\n"
   ]
  },
  {
   "cell_type": "markdown",
   "id": "274b39dc",
   "metadata": {},
   "source": []
  },
  {
   "cell_type": "markdown",
   "id": "9e9bf0aa",
   "metadata": {},
   "source": [
    "Some text"
   ]
  },
  {
   "cell_type": "code",
   "execution_count": null,
   "id": "f10b2ed5",
   "metadata": {},
   "outputs": [
    {
     "data": {
      "text/plain": [
       "[4, 6, 8, 4, 6, 8]"
      ]
     },
     "execution_count": 4,
     "metadata": {},
     "output_type": "execute_result"
    }
   ],
   "source": [
    "#Some Code\n"
   ]
  },
  {
   "cell_type": "code",
   "execution_count": null,
   "id": "0cebfd61",
   "metadata": {},
   "outputs": [],
   "source": []
  }
 ],
 "metadata": {
  "kernelspec": {
   "display_name": "cv_labs",
   "language": "python",
   "name": "python3"
  },
  "language_info": {
   "codemirror_mode": {
    "name": "ipython",
    "version": 3
   },
   "file_extension": ".py",
   "mimetype": "text/x-python",
   "name": "python",
   "nbconvert_exporter": "python",
   "pygments_lexer": "ipython3",
   "version": "3.9.23"
  }
 },
 "nbformat": 4,
 "nbformat_minor": 5
}
