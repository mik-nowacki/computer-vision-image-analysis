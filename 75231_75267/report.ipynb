{
 "cells": [
  {
   "cell_type": "markdown",
   "id": "0ee45a07",
   "metadata": {},
   "source": [
    "# Computer Vision 2025-2026 - NOVA FCT\n",
    "\n",
    "### Assignment 1\n",
    "\n",
    "**Authors**:\n",
    "   - 75231 m.nowacki@campus.fct.unl.pt\n",
    "   - 75267 k.kuznik@campus.fct.unl.pt\n"
   ]
  },
  {
   "cell_type": "markdown",
   "id": "274b39dc",
   "metadata": {},
   "source": []
  },
  {
   "cell_type": "markdown",
   "id": "9e9bf0aa",
   "metadata": {},
   "source": [
    "## Introduction"
   ]
  },
  {
   "cell_type": "markdown",
   "id": "2aa118b6",
   "metadata": {},
   "source": [
    "This report demonstrates a complete computer vision program for image grouping, white balancing, and feature matching. The system processes images through several stages: histogram-based similarity grouping, automatic white balancing, feature detection, description, and matching."
   ]
  },
  {
   "cell_type": "code",
   "execution_count": 1,
   "id": "04808c91",
   "metadata": {},
   "outputs": [],
   "source": [
    "# Required libraries\n",
    "import cv2 as cv\n",
    "import numpy as np\n",
    "from matplotlib import pyplot as plt\n",
    "import os\n",
    "import glob\n",
    "import shutil\n",
    "import re\n",
    "import json\n",
    "from IPython.display import display, Markdown"
   ]
  },
  {
   "cell_type": "markdown",
   "id": "be1b564a",
   "metadata": {},
   "source": [
    "## Step 3: Image Grouping Based on Histogram Similarity\n"
   ]
  },
  {
   "cell_type": "markdown",
   "id": "0cebfd61",
   "metadata": {},
   "source": [
    "The algorithm groups similar images by comparing their color histograms using the Bhattacharyya distance. This distance measures the similarity between two probability distributions (histograms)."
   ]
  },
  {
   "cell_type": "markdown",
   "id": "c71f11bc",
   "metadata": {},
   "source": [
    "We compute separate histograms for R, G, B channels, normalize them, and calculate the average distance across all channels."
   ]
  },
  {
   "cell_type": "code",
   "execution_count": 3,
   "id": "d6e2adaa",
   "metadata": {},
   "outputs": [],
   "source": [
    "def create_histograms(img):\n",
    "    \"\"\"Create normalized RGB histograms for an image\"\"\"\n",
    "    hist_r = cv.calcHist([img], [0], None, [256], [0, 256])\n",
    "    hist_g = cv.calcHist([img], [1], None, [256], [0, 256])\n",
    "    hist_b = cv.calcHist([img], [2], None, [256], [0, 256])\n",
    "    cv.normalize(hist_r, hist_r)\n",
    "    cv.normalize(hist_g, hist_g)\n",
    "    cv.normalize(hist_b, hist_b)\n",
    "    return hist_r, hist_g, hist_b\n",
    "\n",
    "def histogram_distance(img1, img2):\n",
    "    \"\"\"Calculate Bhattacharyya distance between two images' histograms\"\"\"\n",
    "    hist_r1, hist_g1, hist_b1 = create_histograms(img1)\n",
    "    hist_r2, hist_g2, hist_b2 = create_histograms(img2)\n",
    "    dist_r = cv.compareHist(hist_r1, hist_r2, cv.HISTCMP_BHATTACHARYYA)\n",
    "    dist_g = cv.compareHist(hist_g1, hist_g2, cv.HISTCMP_BHATTACHARYYA)\n",
    "    dist_b = cv.compareHist(hist_b1, hist_b2, cv.HISTCMP_BHATTACHARYYA)\n",
    "    avg_dist = (dist_r + dist_g + dist_b) / 3\n",
    "    return avg_dist"
   ]
  },
  {
   "cell_type": "markdown",
   "id": "3f7600a3",
   "metadata": {},
   "source": [
    "## Step 4: Automatic White Balancing\n"
   ]
  },
  {
   "cell_type": "markdown",
   "id": "50d2aeb4",
   "metadata": {},
   "source": []
  }
 ],
 "metadata": {
  "kernelspec": {
   "display_name": "cv_labs",
   "language": "python",
   "name": "python3"
  },
  "language_info": {
   "codemirror_mode": {
    "name": "ipython",
    "version": 3
   },
   "file_extension": ".py",
   "mimetype": "text/x-python",
   "name": "python",
   "nbconvert_exporter": "python",
   "pygments_lexer": "ipython3",
   "version": "3.9.23"
  }
 },
 "nbformat": 4,
 "nbformat_minor": 5
}
